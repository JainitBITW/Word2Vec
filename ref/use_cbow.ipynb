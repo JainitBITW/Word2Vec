{
 "cells": [
  {
   "cell_type": "code",
   "execution_count": 7,
   "metadata": {},
   "outputs": [
    {
     "data": {
      "text/plain": [
       "[('remarquable', 2074.7737852269056),\n",
       " ('centerstage', 1628.412931101322),\n",
       " ('upended', 1514.0785272185974),\n",
       " ('misanthropy', 1418.599939553683),\n",
       " ('bared', 1400.0511678170426),\n",
       " ('haza', 1391.8996216902349),\n",
       " ('babysitters', 1388.8316949887005),\n",
       " ('sufferer', 1373.9005997498375),\n",
       " ('egomaniac', 1372.5245546817614),\n",
       " ('bcs', 1362.1103996913844),\n",
       " ('informant', 1341.1233649005098)]"
      ]
     },
     "execution_count": 7,
     "metadata": {},
     "output_type": "execute_result"
    }
   ],
   "source": [
    "import torch\n",
    "import torch.nn as nn\n",
    "import torch.nn.functional as F\n",
    "import numpy as np\n",
    "from torch.autograd import Variable\n",
    "import pickle as pkl\n",
    "from scipy.spatial.distance import cosine\n",
    "# import cuda \n",
    "import torch.cuda as cuda\n",
    "\n",
    "\n",
    "with open('data.pkl', 'rb') as f:\n",
    "    word2vec = pkl.load(f)\n",
    "\n",
    "\n",
    "#find the most similar words to a given word\n",
    "def most_similar (word, word2vec,n):\n",
    "        '''This function returns the most similar words to the given word'''\n",
    "        word_vector = word2vec[word]\n",
    "        similarities = []\n",
    "        for w in word2vec.keys():\n",
    "            if w != '<OOV>':\n",
    "                similarities.append((w, np.dot(word_vector, word2vec[w])))\n",
    "        similarities.sort(key=lambda x: x[1], reverse=True)\n",
    "        return similarities[:n+1]\n",
    "\n",
    "\n",
    "#find the most similar words to a given word\n",
    "most_similar('mother', word2vec, n=10)\n"
   ]
  },
  {
   "cell_type": "code",
   "execution_count": 8,
   "metadata": {},
   "outputs": [],
   "source": [
    "import json\n",
    "\n",
    "with open('W2V_3_epochs.json', 'r') as fp:\n",
    "    wro= json.load(fp)\n",
    "\n",
    "\n"
   ]
  },
  {
   "cell_type": "code",
   "execution_count": 16,
   "metadata": {},
   "outputs": [],
   "source": [
    "word2vec = {}\n",
    "for i,v in wro.items():\n",
    "    word2vec.update({i:v})"
   ]
  },
  {
   "cell_type": "code",
   "execution_count": 21,
   "metadata": {},
   "outputs": [],
   "source": [
    "def most_similar (word, word2vec,n):\n",
    "        '''This function returns the most similar words to the given word'''\n",
    "        word_vector = word2vec[word]\n",
    "        similarities = []\n",
    "        similarities.append((w, np.dot(word_vector, word2vec[w])))\n",
    "        similarities.sort(key=lambda x: x[1], reverse=True)\n",
    "        return similarities[:n+1]\n"
   ]
  },
  {
   "cell_type": "code",
   "execution_count": 24,
   "metadata": {},
   "outputs": [
    {
     "data": {
      "text/plain": [
       "[('dru', 0.04735754997700278),\n",
       " ('feardotcom', 0.0469359200403815),\n",
       " ('brigham', 0.0463239197048836),\n",
       " ('signer', 0.045700571729236916),\n",
       " ('113', 0.04515378262400696),\n",
       " ('child', 0.04363522332494932),\n",
       " ('techiques', 0.04332966374683604),\n",
       " ('beethoven', 0.0430188558550091),\n",
       " ('air&#34', 0.042387906365477804),\n",
       " ('tap-danced', 0.04217634888880109),\n",
       " ('32nd', 0.04085995253939123)]"
      ]
     },
     "execution_count": 24,
     "metadata": {},
     "output_type": "execute_result"
    }
   ],
   "source": [
    "most_similar('child', word2vec, n=10)"
   ]
  },
  {
   "cell_type": "code",
   "execution_count": null,
   "metadata": {},
   "outputs": [],
   "source": []
  }
 ],
 "metadata": {
  "kernelspec": {
   "display_name": "torchy",
   "language": "python",
   "name": "python3"
  },
  "language_info": {
   "codemirror_mode": {
    "name": "ipython",
    "version": 3
   },
   "file_extension": ".py",
   "mimetype": "text/x-python",
   "name": "python",
   "nbconvert_exporter": "python",
   "pygments_lexer": "ipython3",
   "version": "3.10.9"
  },
  "orig_nbformat": 4
 },
 "nbformat": 4,
 "nbformat_minor": 2
}
