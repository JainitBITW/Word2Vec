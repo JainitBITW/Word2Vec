{
 "cells": [
  {
   "cell_type": "code",
   "execution_count": 11,
   "metadata": {},
   "outputs": [],
   "source": [
    "\n",
    "import scipy as sp\n",
    "import numpy as np\n",
    "import matplotlib.pyplot as plt\n",
    "import pandas as pd\n",
    "import numpy as np\n"
   ]
  },
  {
   "cell_type": "code",
   "execution_count": 9,
   "metadata": {},
   "outputs": [],
   "source": [
    "word2vec = {}\n",
    "f= open('../metadata.tsv', 'r')\n",
    "f2= open('../vectors.tsv', 'r')\n"
   ]
  },
  {
   "cell_type": "code",
   "execution_count": 10,
   "metadata": {},
   "outputs": [
    {
     "ename": "ValueError",
     "evalue": "data type must provide an itemsize",
     "output_type": "error",
     "traceback": [
      "\u001b[0;31m---------------------------------------------------------------------------\u001b[0m",
      "\u001b[0;31mValueError\u001b[0m                                Traceback (most recent call last)",
      "Cell \u001b[0;32mIn[10], line 1\u001b[0m\n\u001b[0;32m----> 1\u001b[0m similar_words \u001b[39m=\u001b[39m most_similar(\u001b[39m'\u001b[39;49m\u001b[39mcharming\u001b[39;49m\u001b[39m'\u001b[39;49m, word2vec, \u001b[39m10\u001b[39;49m)\n\u001b[1;32m      2\u001b[0m similar_words\n",
      "Cell \u001b[0;32mIn[9], line 15\u001b[0m, in \u001b[0;36mmost_similar\u001b[0;34m(word, word2vec, n)\u001b[0m\n\u001b[1;32m     13\u001b[0m \u001b[39mfor\u001b[39;00m w \u001b[39min\u001b[39;00m word2vec\u001b[39m.\u001b[39mkeys():\n\u001b[1;32m     14\u001b[0m     \u001b[39mif\u001b[39;00m w \u001b[39m!=\u001b[39m \u001b[39m'\u001b[39m\u001b[39m<OOV>\u001b[39m\u001b[39m'\u001b[39m:\n\u001b[0;32m---> 15\u001b[0m         similarities\u001b[39m.\u001b[39mappend(\u001b[39mlist\u001b[39m(w, np\u001b[39m.\u001b[39;49mdot(word_vector, word2vec[w])))\n\u001b[1;32m     16\u001b[0m similarities\u001b[39m.\u001b[39msort(key\u001b[39m=\u001b[39m\u001b[39mlambda\u001b[39;00m x: x[\u001b[39m1\u001b[39m], reverse\u001b[39m=\u001b[39m\u001b[39mTrue\u001b[39;00m)\n\u001b[1;32m     17\u001b[0m \u001b[39mreturn\u001b[39;00m similarities[:n\u001b[39m+\u001b[39m\u001b[39m1\u001b[39m]\n",
      "File \u001b[0;32m<__array_function__ internals>:180\u001b[0m, in \u001b[0;36mdot\u001b[0;34m(*args, **kwargs)\u001b[0m\n",
      "\u001b[0;31mValueError\u001b[0m: data type must provide an itemsize"
     ]
    }
   ],
   "source": [
    "similar_words = most_similar('charming', word2vec, 10)\n",
    "similar_words"
   ]
  },
  {
   "cell_type": "code",
   "execution_count": 4,
   "metadata": {},
   "outputs": [
    {
     "name": "stdout",
     "output_type": "stream",
     "text": [
      "36940\n"
     ]
    }
   ],
   "source": [
    "print(len(word2vec))"
   ]
  },
  {
   "cell_type": "code",
   "execution_count": null,
   "metadata": {},
   "outputs": [],
   "source": [
    "vectors = []\n",
    "similar_words = most_similar('daily', word2vec, 10)\n",
    "for i in range(len(similar_words)):\n",
    "    vectors.append(word2vec[similar_words[i][0]])\n",
    "plt.figure(figsize=(10, 10))\n",
    "for i in range(len(similar_words)):\n",
    "    if similar_words[i][0]=='daily':\n",
    "        plt.scatter(vectors[i][0], vectors[i][1], c='b',s=50 )\n",
    "    else:\n",
    "        plt.scatter(vectors[i][0], vectors[i][1], c='r',s=50 )\n",
    "   \n",
    "    plt.annotate(similar_words[i][0], (vectors[i][0], vectors[i][1]))\n",
    "    plt.legend(['daily'])\n",
    "plt.show()"
   ]
  },
  {
   "cell_type": "code",
   "execution_count": null,
   "metadata": {},
   "outputs": [],
   "source": [
    "df = pd.DataFrame(similar_words[1:], columns=['word', 'similarity'])\n",
    "df.to_clipboard()"
   ]
  },
  {
   "cell_type": "code",
   "execution_count": null,
   "metadata": {},
   "outputs": [],
   "source": [
    "import re\n",
    "import numpy as np"
   ]
  },
  {
   "cell_type": "code",
   "execution_count": null,
   "metadata": {},
   "outputs": [],
   "source": []
  },
  {
   "cell_type": "code",
   "execution_count": null,
   "metadata": {},
   "outputs": [],
   "source": []
  },
  {
   "cell_type": "code",
   "execution_count": null,
   "metadata": {},
   "outputs": [],
   "source": []
  },
  {
   "cell_type": "code",
   "execution_count": null,
   "metadata": {},
   "outputs": [],
   "source": []
  }
 ],
 "metadata": {
  "kernelspec": {
   "display_name": "nltksci",
   "language": "python",
   "name": "python3"
  },
  "language_info": {
   "codemirror_mode": {
    "name": "ipython",
    "version": 3
   },
   "file_extension": ".py",
   "mimetype": "text/x-python",
   "name": "python",
   "nbconvert_exporter": "python",
   "pygments_lexer": "ipython3",
   "version": "3.10.9"
  },
  "orig_nbformat": 4
 },
 "nbformat": 4,
 "nbformat_minor": 2
}
